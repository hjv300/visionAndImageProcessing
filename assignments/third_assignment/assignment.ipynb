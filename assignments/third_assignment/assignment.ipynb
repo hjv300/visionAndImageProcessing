{
 "cells": [
  {
   "cell_type": "markdown",
   "metadata": {},
   "source": [
    "Buddha is real dataset, with exactly 10 images. If nz is the number of pixels inside the\n",
    "non-zero part of the mask, You should create an array J of size/shape (10, nz) and obtain\n",
    "the albedo modulated normal field as M = S†J (the pseudo-inverse). With it, extract\n",
    "the albedo within the mask, display it as a 2D image. Then extract the normal field by\n",
    "normalizing M , extract its components n1, n2, n3. Solve for depth and display it at different\n",
    "view points.\n",
    "You should try and replace Woodham’s first step (via inverse/pseudoinverse) with an\n",
    "estimation using RANSAC. The threshold parameter in ransac 3dvector() should be at\n",
    "least 25.0 Experiment with it. After the estimation for each pixel, extract the normals and\n",
    "the albedo. Display and comment on the results. Try then to make the estimated normal\n",
    "field smoother using the smooth normal field() function. You may experiment with the\n",
    "iters parameter."
   ]
  },
  {
   "cell_type": "code",
   "execution_count": 76,
   "metadata": {},
   "outputs": [
    {
     "ename": "TypeError",
     "evalue": "cannot unpack non-iterable numpy.float32 object",
     "output_type": "error",
     "traceback": [
      "\u001b[0;31m---------------------------------------------------------------------------\u001b[0m",
      "\u001b[0;31mTypeError\u001b[0m                                 Traceback (most recent call last)",
      "Cell \u001b[0;32mIn[76], line 15\u001b[0m\n\u001b[1;32m     13\u001b[0m \u001b[38;5;66;03m#define nz\u001b[39;00m\n\u001b[1;32m     14\u001b[0m nz \u001b[38;5;241m=\u001b[39m \u001b[38;5;241m0\u001b[39m\n\u001b[0;32m---> 15\u001b[0m \u001b[38;5;28;01mfor\u001b[39;00m i, j \u001b[38;5;129;01min\u001b[39;00m buddha_mask[\u001b[38;5;241m0\u001b[39m]:\n\u001b[1;32m     16\u001b[0m     \u001b[38;5;28;01mif\u001b[39;00m buddha_mask[i,j] \u001b[38;5;241m>\u001b[39m \u001b[38;5;241m0\u001b[39m:\n\u001b[1;32m     17\u001b[0m         nz \u001b[38;5;241m+\u001b[39m\u001b[38;5;241m=\u001b[39m \u001b[38;5;241m1\u001b[39m\n",
      "\u001b[0;31mTypeError\u001b[0m: cannot unpack non-iterable numpy.float32 object"
     ]
    }
   ],
   "source": [
    "import sys\n",
    "import numpy as np\n",
    "import ps_utils as ps\n",
    "import matplotlib.pyplot as plt\n",
    "\n",
    "np.set_printoptions(threshold=sys.maxsize)\n",
    "\n",
    "buddha_mat = ps.read_data_file('Buddha.mat') #change to correct directory\n",
    "\n",
    "#we extract the data from the loaded file\n",
    "buddha_images = buddha_mat[0]\n",
    "buddha_mask = buddha_mat[1]\n",
    "#define nz\n",
    "nz = 0\n",
    "for i, j in buddha_mask:\n",
    "    if buddha_mask[i,j] > 0:\n",
    "        nz += 1\n",
    "    else:\n",
    "        continue\n",
    "        \n",
    "\n",
    "#J = np.zeros((10, len(nz)))\n"
   ]
  }
 ],
 "metadata": {
  "kernelspec": {
   "display_name": "visionImg",
   "language": "python",
   "name": "python3"
  },
  "language_info": {
   "codemirror_mode": {
    "name": "ipython",
    "version": 3
   },
   "file_extension": ".py",
   "mimetype": "text/x-python",
   "name": "python",
   "nbconvert_exporter": "python",
   "pygments_lexer": "ipython3",
   "version": "3.11.5"
  }
 },
 "nbformat": 4,
 "nbformat_minor": 2
}
